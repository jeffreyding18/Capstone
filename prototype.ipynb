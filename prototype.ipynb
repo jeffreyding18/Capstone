{
 "cells": [
  {
   "cell_type": "markdown",
   "metadata": {},
   "source": [
    "<h4> 0. Imports </h4>"
   ]
  },
  {
   "cell_type": "code",
   "execution_count": 1,
   "metadata": {},
   "outputs": [],
   "source": [
    "%matplotlib inline\n",
    "\n",
    "from pathlib import Path\n",
    "\n",
    "import numpy as np\n",
    "import pandas as pd\n",
    "import pandas_datareader.data as web\n",
    "from scipy.stats import spearmanr\n",
    "\n",
    "from sklearn.metrics import mean_squared_error\n",
    "from sklearn.preprocessing import MinMaxScaler\n",
    "\n",
    "import tensorflow as tf\n",
    "from tensorflow.keras.callbacks import ModelCheckpoint, EarlyStopping\n",
    "from tensorflow.keras.models import Sequential\n",
    "from tensorflow.keras.layers import Dense, LSTM\n",
    "from tensorflow import keras\n",
    "\n",
    "import matplotlib.pyplot as plt\n",
    "import seaborn as sns"
   ]
  },
  {
   "cell_type": "markdown",
   "metadata": {},
   "source": [
    "<h4> 1. Time series naive </h4>\n",
    "Wrapper function for all models using naive time series data (predicting price)"
   ]
  },
  {
   "cell_type": "code",
   "execution_count": 2,
   "metadata": {},
   "outputs": [],
   "source": [
    "def ts_arima():\n",
    "    # Calculate ARIMA w/ TS data and print results / return results\n",
    "    return "
   ]
  },
  {
   "cell_type": "code",
   "execution_count": null,
   "metadata": {},
   "outputs": [],
   "source": [
    "def ts_rnn():\n",
    "    # Calculate rnn w/ TS data and print results / return results\n",
    "    return "
   ]
  },
  {
   "cell_type": "code",
   "execution_count": null,
   "metadata": {},
   "outputs": [],
   "source": [
    "def ts_gb():\n",
    "    # Calculate XGBoost w/ TS data and print results / return results\n",
    "    return "
   ]
  },
  {
   "cell_type": "code",
   "execution_count": null,
   "metadata": {},
   "outputs": [],
   "source": [
    "def ts_rl():\n",
    "    # Calculate Q learning w/ TS data and print results / return results\n",
    "    return "
   ]
  },
  {
   "cell_type": "code",
   "execution_count": null,
   "metadata": {},
   "outputs": [],
   "source": [
    "def ts_ensemble():\n",
    "    # Use ensemble of multiple models, some combination of above (NOT RL)\n",
    "    #  w/ TS data and print results / return results\n",
    "    return "
   ]
  },
  {
   "cell_type": "code",
   "execution_count": null,
   "metadata": {},
   "outputs": [],
   "source": [
    "def ts_price(model_selection):\n",
    "    if model_selection == \"ARIMA\":\n",
    "        ts_arima()\n",
    "        pass\n",
    "    elif model_selection == \"RNN\":\n",
    "        ts_rnn()\n",
    "        pass\n",
    "    elif model_selection == \"GB\":\n",
    "        ts_gb()\n",
    "        pass\n",
    "    elif model_selection == \"RL\":\n",
    "        ts_rl()\n",
    "        pass\n",
    "    elif model_selection == \"ENSEMBLE\":\n",
    "        ts_ensemble()\n",
    "        pass\n",
    "    else:\n",
    "        pass"
   ]
  },
  {
   "cell_type": "markdown",
   "metadata": {},
   "source": [
    "<h4> 2. Combining other techniques </h4>\n",
    "\n",
    "<ol>\n",
    "    <li> Incorporating NLP </li>\n",
    "    Use twitter data for stocks from previous research\n",
    "    <li> Use returns for evaluation </li>\n",
    "    See david's notes\n",
    "    <li> Predicting indicators such as RSI, Momentum </li>\n",
    "    See stefan jansen's work\n",
    "    <li> Non-traditional TS models </li>\n",
    "    For example, clustering methods? Neural transformers? Classification models? Weighted precision and measure for metric"
   ]
  },
  {
   "cell_type": "markdown",
   "metadata": {},
   "source": []
  }
 ],
 "metadata": {
  "kernelspec": {
   "display_name": "Python 3",
   "language": "python",
   "name": "python3"
  },
  "language_info": {
   "codemirror_mode": {
    "name": "ipython",
    "version": 3
   },
   "file_extension": ".py",
   "mimetype": "text/x-python",
   "name": "python",
   "nbconvert_exporter": "python",
   "pygments_lexer": "ipython3",
   "version": "3.11.4"
  },
  "orig_nbformat": 4
 },
 "nbformat": 4,
 "nbformat_minor": 2
}
