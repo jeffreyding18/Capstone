{
 "cells": [
  {
   "cell_type": "markdown",
   "metadata": {},
   "source": [
    "After discussing with my mentor, we've decided that it's best we take an approach of assessing which datasets to use, rather than evaluating the models themselves. Given that the goal of the final project is to compare the performance of various models, it is likely we will include a variety of models regardless of their performance. As such, we will focus this exercise on examining the performance of various datasets.\n",
    "\n",
    "Dataset 1: Time-series stock data (daily)\n",
    "\n",
    "Dataset 2: Financial news + technical data\n",
    "\n",
    "Dataset 3: Combination of time-series data + monthly production values (https://github.com/PacktPublishing/Machine-Learning-for-Algorithmic-Trading-Second-Edition/blob/master/09_time_series_models/02_arima_models.ipynb)\n",
    "\n",
    "Dataset 4: Quandl? https://github.com/PacktPublishing/Machine-Learning-for-Algorithmic-Trading-Second-Edition/blob/master/data/create_datasets.ipynb\n",
    "\n",
    "Approaches: \n",
    "1. RNN: See existing research\n",
    "2. ARIMA: https://github.com/PacktPublishing/Machine-Learning-for-Algorithmic-Trading-Second-Edition/blob/master/09_time_series_models/02_arima_models.ipynb\n",
    "3. K-means: https://github.com/PacktPublishing/Machine-Learning-for-Algorithmic-Trading-Second-Edition/blob/master/13_unsupervised_learning/03_clustering_algorithms/02_kmeans_implementation.ipynb\n",
    "4. Gradient boosting: see stefan jansen"
   ]
  },
  {
   "cell_type": "code",
   "execution_count": null,
   "metadata": {},
   "outputs": [],
   "source": []
  }
 ],
 "metadata": {
  "language_info": {
   "name": "python"
  },
  "orig_nbformat": 4
 },
 "nbformat": 4,
 "nbformat_minor": 2
}
